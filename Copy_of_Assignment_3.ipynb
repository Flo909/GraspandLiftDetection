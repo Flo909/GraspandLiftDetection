{
  "cells": [
    {
      "cell_type": "markdown",
      "metadata": {
        "id": "view-in-github",
        "colab_type": "text"
      },
      "source": [
        "<a href=\"https://colab.research.google.com/github/Flo909/GraspandLiftDetection/blob/main/Copy_of_Assignment_3.ipynb\" target=\"_parent\"><img src=\"https://colab.research.google.com/assets/colab-badge.svg\" alt=\"Open In Colab\"/></a>"
      ]
    },
    {
      "cell_type": "code",
      "execution_count": 3,
      "metadata": {
        "id": "AN4g_V-9Ty5f",
        "outputId": "a9f90e02-f46d-4c55-e447-8450b3fe7825",
        "colab": {
          "base_uri": "https://localhost:8080/"
        }
      },
      "outputs": [
        {
          "output_type": "stream",
          "name": "stdout",
          "text": [
            "GPU is available\n"
          ]
        }
      ],
      "source": [
        "import numpy as np\n",
        "import torch\n",
        "import torchvision\n",
        "from torch.utils.data import DataLoader, TensorDataset\n",
        "import torch.nn as nn\n",
        "import torch.optim as optim\n",
        "\n",
        "import tensorflow\n",
        "\n",
        "from matplotlib import pyplot as plt\n",
        "\n",
        "\n",
        "# Training will be significantly faster if GPU is available. In Colab, go to Runtime -> Change runtime type -> Hardware accelerator -> GPU\n",
        "if torch.cuda.is_available():\n",
        "    print(\"GPU is available\")\n",
        "else:\n",
        "    print(\"GPU is not available\")\n",
        "# set the device to GPU if available, else CPU\n",
        "device = torch.device(\"cuda\" if torch.cuda.is_available() else \"cpu\")\n"
      ]
    },
    {
      "cell_type": "markdown",
      "source": [
        "Import data:\n",
        "Download the train.zip file from https://www.kaggle.com/c/grasp-and-lift-eeg-detection/data and\n",
        "explore the dataset. This file contains the first 8 series for each subject. (We will be only using\n",
        "train.zip for the project.)\n",
        "There are two files for each subject + series combination:\n",
        "● the *_data.csv files contain the raw 32 channels EEG data (sampling rate 500Hz)\n",
        "● the *_events.csv files contains the ground truth frame-wise labels for all events\n",
        "\n",
        "NOTE: to import the data you have to log into kaggle and create an API token. From there you upload the kaggle.json file that will be downloaded when creating the API token and upload it into the connected google drive account for colab. Then give colab permission to access the files when running the below lines."
      ],
      "metadata": {
        "id": "GIE6OCntWFka"
      }
    },
    {
      "cell_type": "code",
      "source": [
        "! pip install kaggle"
      ],
      "metadata": {
        "id": "_Gbhk3dmXsDQ",
        "outputId": "95653e08-92bf-4e90-9c58-6167e7941873",
        "colab": {
          "base_uri": "https://localhost:8080/"
        }
      },
      "execution_count": 7,
      "outputs": [
        {
          "output_type": "stream",
          "name": "stdout",
          "text": [
            "Requirement already satisfied: kaggle in /usr/local/lib/python3.10/dist-packages (1.6.12)\n",
            "Requirement already satisfied: six>=1.10 in /usr/local/lib/python3.10/dist-packages (from kaggle) (1.16.0)\n",
            "Requirement already satisfied: certifi>=2023.7.22 in /usr/local/lib/python3.10/dist-packages (from kaggle) (2024.2.2)\n",
            "Requirement already satisfied: python-dateutil in /usr/local/lib/python3.10/dist-packages (from kaggle) (2.8.2)\n",
            "Requirement already satisfied: requests in /usr/local/lib/python3.10/dist-packages (from kaggle) (2.31.0)\n",
            "Requirement already satisfied: tqdm in /usr/local/lib/python3.10/dist-packages (from kaggle) (4.66.4)\n",
            "Requirement already satisfied: python-slugify in /usr/local/lib/python3.10/dist-packages (from kaggle) (8.0.4)\n",
            "Requirement already satisfied: urllib3 in /usr/local/lib/python3.10/dist-packages (from kaggle) (2.0.7)\n",
            "Requirement already satisfied: bleach in /usr/local/lib/python3.10/dist-packages (from kaggle) (6.1.0)\n",
            "Requirement already satisfied: webencodings in /usr/local/lib/python3.10/dist-packages (from bleach->kaggle) (0.5.1)\n",
            "Requirement already satisfied: text-unidecode>=1.3 in /usr/local/lib/python3.10/dist-packages (from python-slugify->kaggle) (1.3)\n",
            "Requirement already satisfied: charset-normalizer<4,>=2 in /usr/local/lib/python3.10/dist-packages (from requests->kaggle) (3.3.2)\n",
            "Requirement already satisfied: idna<4,>=2.5 in /usr/local/lib/python3.10/dist-packages (from requests->kaggle) (3.7)\n"
          ]
        }
      ]
    },
    {
      "cell_type": "code",
      "source": [
        "from google.colab import drive\n",
        "drive.mount('/content/drive')"
      ],
      "metadata": {
        "id": "xYSnHGQlqkIb",
        "outputId": "70fd3411-9c75-4eb7-89ab-caa98ac92c03",
        "colab": {
          "base_uri": "https://localhost:8080/"
        }
      },
      "execution_count": 15,
      "outputs": [
        {
          "output_type": "stream",
          "name": "stdout",
          "text": [
            "Drive already mounted at /content/drive; to attempt to forcibly remount, call drive.mount(\"/content/drive\", force_remount=True).\n"
          ]
        }
      ]
    },
    {
      "cell_type": "code",
      "source": [
        "! mkdir ~/.kaggle"
      ],
      "metadata": {
        "id": "6RaPOo89rF1O",
        "outputId": "451703e0-6ea4-45f7-a25e-b12f4e3ef123",
        "colab": {
          "base_uri": "https://localhost:8080/"
        }
      },
      "execution_count": 16,
      "outputs": [
        {
          "output_type": "stream",
          "name": "stdout",
          "text": [
            "mkdir: cannot create directory ‘/root/.kaggle’: File exists\n"
          ]
        }
      ]
    },
    {
      "cell_type": "code",
      "source": [
        "!cp /content/drive/MyDrive/kaggle.json ~/.kaggle/kaggle.json"
      ],
      "metadata": {
        "id": "2CbmPDG_rMMU"
      },
      "execution_count": 17,
      "outputs": []
    },
    {
      "cell_type": "code",
      "source": [
        "! kaggle competitions download grasp-and-lift-eeg-detection --force"
      ],
      "metadata": {
        "id": "VXQveKKyrUms",
        "outputId": "29f24f0c-124b-4385-d066-148d7656765f",
        "colab": {
          "base_uri": "https://localhost:8080/"
        }
      },
      "execution_count": 20,
      "outputs": [
        {
          "output_type": "stream",
          "name": "stdout",
          "text": [
            "Downloading grasp-and-lift-eeg-detection.zip to /content\n",
            "100% 1.02G/1.02G [00:47<00:00, 24.2MB/s]\n",
            "100% 1.02G/1.02G [00:47<00:00, 22.9MB/s]\n"
          ]
        }
      ]
    },
    {
      "cell_type": "code",
      "source": [
        "import zipfile\n",
        "import pandas as pd\n",
        "import os\n",
        "\n",
        "# Open the zip file\n",
        "with zipfile.ZipFile('grasp-and-lift-eeg-detection.zip', 'r') as zip_ref:\n",
        "    # Extract all files\n",
        "    zip_ref.extractall('grasp-and-lift-eeg-detection')\n",
        "\n",
        "# List the extracted files\n",
        "extracted_files = zip_ref.namelist()\n",
        "\n",
        "display(extracted_files)"
      ],
      "metadata": {
        "id": "SFO8oHjqtK1p",
        "outputId": "57dace80-f888-4b3e-c7e1-322d156e6d32",
        "colab": {
          "base_uri": "https://localhost:8080/",
          "height": 34
        }
      },
      "execution_count": 4,
      "outputs": [
        {
          "output_type": "display_data",
          "data": {
            "text/plain": [
              "['sample_submission.csv.zip', 'test.zip', 'train.zip']"
            ]
          },
          "metadata": {}
        }
      ]
    },
    {
      "cell_type": "code",
      "source": [
        "# Function to read data and labels\n",
        "def read_data_and_labels(zip_file):\n",
        "    train_data = {}\n",
        "    test_data = {}\n",
        "    labels = {}\n",
        "\n",
        "    # Extracted folder name will be the same as the zip file name without the extension\n",
        "    extracted_folder = os.path.splitext(zip_file)[0]\n",
        "\n",
        "    with zipfile.ZipFile(zip_file, 'r') as zip_ref:\n",
        "        # Extract all files\n",
        "        zip_ref.extractall(extracted_folder)\n",
        "\n",
        "    extracted_files = zip_ref.namelist()\n",
        "\n",
        "    for file_name in extracted_files:\n",
        "        if file_name.endswith('_data.csv'):\n",
        "            subject_id, series = file_name.split('_')[:2]\n",
        "            print(series)\n",
        "            df = pd.read_csv(os.path.join(extracted_folder, file_name))\n",
        "            if series == 'series7' or series == 'series8':\n",
        "                test_data.setdefault(subject_id, []).append(df)\n",
        "            else:\n",
        "                train_data.setdefault(subject_id, []).append(df)\n",
        "\n",
        "        elif file_name.endswith('_events.csv'):\n",
        "            subject_id = file_name.split('_')[0]\n",
        "            labels_df = pd.read_csv(os.path.join(extracted_folder, file_name))\n",
        "            labels[subject_id] = labels_df\n",
        "\n",
        "    return train_data, test_data, labels\n",
        "\n",
        "# Read data and labels\n",
        "train_data, test_data, labels = read_data_and_labels('grasp-and-lift-eeg-detection/train.zip')\n",
        "\n"
      ],
      "metadata": {
        "id": "F1q3GFzEvpvS",
        "outputId": "21af76be-c315-4dcc-c778-e7955f4e3acb",
        "colab": {
          "base_uri": "https://localhost:8080/"
        }
      },
      "execution_count": 6,
      "outputs": [
        {
          "output_type": "stream",
          "name": "stdout",
          "text": [
            "series1\n",
            "series2\n",
            "series3\n",
            "series4\n",
            "series5\n",
            "series6\n",
            "series7\n",
            "series8\n",
            "series1\n",
            "series2\n",
            "series3\n",
            "series4\n",
            "series5\n",
            "series6\n",
            "series7\n",
            "series8\n",
            "series1\n",
            "series2\n",
            "series3\n",
            "series4\n",
            "series5\n",
            "series6\n",
            "series7\n",
            "series8\n",
            "series1\n",
            "series2\n",
            "series3\n",
            "series4\n",
            "series5\n",
            "series6\n",
            "series7\n",
            "series8\n",
            "series1\n",
            "series2\n",
            "series3\n",
            "series4\n",
            "series5\n",
            "series6\n",
            "series7\n",
            "series8\n",
            "series1\n",
            "series2\n",
            "series3\n",
            "series4\n",
            "series5\n",
            "series6\n",
            "series7\n",
            "series8\n",
            "series1\n",
            "series2\n",
            "series3\n",
            "series4\n",
            "series5\n",
            "series6\n",
            "series7\n",
            "series8\n",
            "series1\n",
            "series2\n",
            "series3\n",
            "series4\n",
            "series5\n",
            "series6\n",
            "series7\n",
            "series8\n",
            "series1\n",
            "series2\n",
            "series3\n",
            "series4\n",
            "series5\n",
            "series6\n",
            "series7\n",
            "series8\n",
            "series1\n",
            "series2\n",
            "series3\n",
            "series4\n",
            "series5\n",
            "series6\n",
            "series7\n",
            "series8\n",
            "series1\n",
            "series2\n",
            "series3\n",
            "series4\n",
            "series5\n",
            "series6\n",
            "series7\n",
            "series8\n",
            "series1\n",
            "series2\n",
            "series3\n",
            "series4\n",
            "series5\n",
            "series6\n",
            "series7\n",
            "series8\n"
          ]
        }
      ]
    },
    {
      "cell_type": "code",
      "source": [
        "print(train_data.keys())\n",
        "print(test_data.keys())\n",
        "\n",
        "# Example: Accessing data for subject '1'\n",
        "subject_id = 'train/subj2'\n",
        "train_data_subject_1 = pd.concat(train_data[subject_id], ignore_index=True)\n",
        "test_data_subject_1 = pd.concat(test_data[subject_id], ignore_index=True)\n",
        "labels_subject_1 = labels[subject_id]\n",
        "\n",
        "# Now you have train and test data along with labels for each subject"
      ],
      "metadata": {
        "id": "0pcXwKFax_gP",
        "outputId": "e0ed2f39-af4d-4eb3-93f4-b880f4601273",
        "colab": {
          "base_uri": "https://localhost:8080/"
        }
      },
      "execution_count": 7,
      "outputs": [
        {
          "output_type": "stream",
          "name": "stdout",
          "text": [
            "dict_keys(['train/subj10', 'train/subj11', 'train/subj12', 'train/subj1', 'train/subj2', 'train/subj3', 'train/subj4', 'train/subj5', 'train/subj6', 'train/subj7', 'train/subj8', 'train/subj9'])\n",
            "dict_keys(['train/subj10', 'train/subj11', 'train/subj12', 'train/subj1', 'train/subj2', 'train/subj3', 'train/subj4', 'train/subj5', 'train/subj6', 'train/subj7', 'train/subj8', 'train/subj9'])\n"
          ]
        }
      ]
    }
  ],
  "metadata": {
    "kernelspec": {
      "display_name": "Python 3",
      "name": "python3"
    },
    "language_info": {
      "codemirror_mode": {
        "name": "ipython",
        "version": 3
      },
      "file_extension": ".py",
      "mimetype": "text/x-python",
      "name": "python",
      "nbconvert_exporter": "python",
      "pygments_lexer": "ipython3",
      "version": "3.9.18"
    },
    "colab": {
      "provenance": [],
      "gpuType": "T4",
      "include_colab_link": true
    },
    "accelerator": "GPU"
  },
  "nbformat": 4,
  "nbformat_minor": 0
}