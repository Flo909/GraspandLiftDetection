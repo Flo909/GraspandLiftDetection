{
  "cells": [
    {
      "cell_type": "markdown",
      "metadata": {
        "id": "view-in-github",
        "colab_type": "text"
      },
      "source": [
        "<a href=\"https://colab.research.google.com/github/Flo909/GraspandLiftDetection/blob/main/Copy_of_Assignment_3_Ben.ipynb\" target=\"_parent\"><img src=\"https://colab.research.google.com/assets/colab-badge.svg\" alt=\"Open In Colab\"/></a>"
      ]
    },
    {
      "cell_type": "code",
      "execution_count": 7,
      "metadata": {
        "colab": {
          "base_uri": "https://localhost:8080/"
        },
        "id": "AN4g_V-9Ty5f",
        "outputId": "df2347c6-3253-48cb-bc0b-a67255fccc1a"
      },
      "outputs": [
        {
          "output_type": "stream",
          "name": "stdout",
          "text": [
            "GPU is available\n"
          ]
        }
      ],
      "source": [
        "# Test Xanthe\n",
        "import numpy as np\n",
        "import torch\n",
        "import torchvision\n",
        "from torch.utils.data import DataLoader, TensorDataset\n",
        "import torch.nn as nn\n",
        "import torch.optim as optim\n",
        "\n",
        "import tensorflow\n",
        "\n",
        "from matplotlib import pyplot as plt\n",
        "\n",
        "run_on_colab = True\n",
        "\n",
        "# Training will be significantly faster if GPU is available. In Colab, go to Runtime -> Change runtime type -> Hardware accelerator -> GPU\n",
        "if torch.cuda.is_available():\n",
        "    print(\"GPU is available\")\n",
        "else:\n",
        "    print(\"GPU is not available\")\n",
        "# set the device to GPU if available, else CPU\n",
        "device = torch.device(\"cuda\" if torch.cuda.is_available() else \"cpu\")\n"
      ]
    },
    {
      "cell_type": "markdown",
      "metadata": {
        "id": "GIE6OCntWFka"
      },
      "source": [
        "Import data:\n",
        "Download the train.zip file from https://www.kaggle.com/c/grasp-and-lift-eeg-detection/data and\n",
        "explore the dataset. This file contains the first 8 series for each subject. (We will be only using\n",
        "train.zip for the project.)\n",
        "There are two files for each subject + series combination:\n",
        "● the *_data.csv files contain the raw 32 channels EEG data (sampling rate 500Hz)\n",
        "● the *_events.csv files contains the ground truth frame-wise labels for all events\n",
        "\n",
        "NOTE: to import the data you have to log into kaggle and create an API token. From there you upload the kaggle.json file that will be downloaded when creating the API token and upload it into the connected google drive account for colab. Then give colab permission to access the files when running the below lines."
      ]
    },
    {
      "cell_type": "code",
      "execution_count": 8,
      "metadata": {
        "colab": {
          "base_uri": "https://localhost:8080/"
        },
        "id": "_Gbhk3dmXsDQ",
        "outputId": "10b7885b-2c9c-46ac-aa62-2b44c1f02b22"
      },
      "outputs": [
        {
          "output_type": "stream",
          "name": "stdout",
          "text": [
            "Requirement already satisfied: kaggle in /usr/local/lib/python3.10/dist-packages (1.6.12)\n",
            "Requirement already satisfied: six>=1.10 in /usr/local/lib/python3.10/dist-packages (from kaggle) (1.16.0)\n",
            "Requirement already satisfied: certifi>=2023.7.22 in /usr/local/lib/python3.10/dist-packages (from kaggle) (2024.2.2)\n",
            "Requirement already satisfied: python-dateutil in /usr/local/lib/python3.10/dist-packages (from kaggle) (2.8.2)\n",
            "Requirement already satisfied: requests in /usr/local/lib/python3.10/dist-packages (from kaggle) (2.31.0)\n",
            "Requirement already satisfied: tqdm in /usr/local/lib/python3.10/dist-packages (from kaggle) (4.66.4)\n",
            "Requirement already satisfied: python-slugify in /usr/local/lib/python3.10/dist-packages (from kaggle) (8.0.4)\n",
            "Requirement already satisfied: urllib3 in /usr/local/lib/python3.10/dist-packages (from kaggle) (2.0.7)\n",
            "Requirement already satisfied: bleach in /usr/local/lib/python3.10/dist-packages (from kaggle) (6.1.0)\n",
            "Requirement already satisfied: webencodings in /usr/local/lib/python3.10/dist-packages (from bleach->kaggle) (0.5.1)\n",
            "Requirement already satisfied: text-unidecode>=1.3 in /usr/local/lib/python3.10/dist-packages (from python-slugify->kaggle) (1.3)\n",
            "Requirement already satisfied: charset-normalizer<4,>=2 in /usr/local/lib/python3.10/dist-packages (from requests->kaggle) (3.3.2)\n",
            "Requirement already satisfied: idna<4,>=2.5 in /usr/local/lib/python3.10/dist-packages (from requests->kaggle) (3.7)\n"
          ]
        }
      ],
      "source": [
        "if (run_on_colab):\n",
        "  ! pip install kaggle"
      ]
    },
    {
      "cell_type": "code",
      "execution_count": 11,
      "metadata": {
        "colab": {
          "base_uri": "https://localhost:8080/"
        },
        "id": "xYSnHGQlqkIb",
        "outputId": "68ae4e10-8c38-4d76-b2f4-0953233360fb"
      },
      "outputs": [
        {
          "output_type": "stream",
          "name": "stdout",
          "text": [
            "Drive already mounted at /content/drive; to attempt to forcibly remount, call drive.mount(\"/content/drive\", force_remount=True).\n",
            "mkdir: cannot create directory ‘/root/.kaggle’: File exists\n"
          ]
        }
      ],
      "source": [
        "if (run_on_colab):\n",
        "  from google.colab import drive\n",
        "  drive.mount('/content/drive')\n",
        "  ! mkdir ~/.kaggle\n",
        "  ! cp /content/drive/MyDrive/kaggle.json ~/.kaggle/kaggle.json"
      ]
    },
    {
      "cell_type": "code",
      "execution_count": 12,
      "metadata": {
        "colab": {
          "base_uri": "https://localhost:8080/"
        },
        "id": "VXQveKKyrUms",
        "outputId": "1f8c1ca8-1ce0-4ce3-9783-40b164c43c36"
      },
      "outputs": [
        {
          "output_type": "stream",
          "name": "stdout",
          "text": [
            "Downloading grasp-and-lift-eeg-detection.zip to /content\n",
            " 98% 1.00G/1.02G [00:14<00:00, 115MB/s]\n",
            "100% 1.02G/1.02G [00:14<00:00, 73.2MB/s]\n"
          ]
        }
      ],
      "source": [
        "! kaggle competitions download grasp-and-lift-eeg-detection --force"
      ]
    },
    {
      "cell_type": "code",
      "execution_count": 13,
      "metadata": {
        "id": "SFO8oHjqtK1p",
        "colab": {
          "base_uri": "https://localhost:8080/",
          "height": 34
        },
        "outputId": "58ef63f3-3ceb-4915-b84c-642f7f79cfa4"
      },
      "outputs": [
        {
          "output_type": "display_data",
          "data": {
            "text/plain": [
              "['sample_submission.csv.zip', 'test.zip', 'train.zip']"
            ]
          },
          "metadata": {}
        }
      ],
      "source": [
        "import zipfile\n",
        "import pandas as pd\n",
        "import os\n",
        "\n",
        "# Open the zip file\n",
        "with zipfile.ZipFile('grasp-and-lift-eeg-detection.zip', 'r') as zip_ref:\n",
        "    # Extract all files\n",
        "    zip_ref.extractall('grasp-and-lift-eeg-detection')\n",
        "\n",
        "# List the extracted files\n",
        "extracted_files = zip_ref.namelist()\n",
        "\n",
        "display(extracted_files)"
      ]
    },
    {
      "cell_type": "code",
      "execution_count": 14,
      "metadata": {
        "id": "Gx4-o-yw7Nqo"
      },
      "outputs": [],
      "source": [
        "# Extracted folder name will be the same as the zip file name without the extension\n",
        "extracted_folder = os.path.splitext('grasp-and-lift-eeg-detection/train.zip')[0]\n",
        "\n",
        "with zipfile.ZipFile('grasp-and-lift-eeg-detection/train.zip', 'r') as zip_ref:\n",
        "    # Extract all files\n",
        "    zip_ref.extractall(extracted_folder)\n",
        "\n",
        "extracted_files = zip_ref.namelist()"
      ]
    },
    {
      "cell_type": "markdown",
      "source": [
        "# Visualise the data\n"
      ],
      "metadata": {
        "id": "llnGwx_PCKo4"
      }
    },
    {
      "cell_type": "code",
      "source": [
        "import matplotlib.pyplot as plt\n",
        "\n",
        "train_set_signals = pd.read_csv(\"grasp-and-lift-eeg-detection/train/train/subj1_series1_data.csv\")\n",
        "train_set_signals.head()\n",
        "axis = plt.gca()\n",
        "downSampleToShow = 500\n",
        "train_set_signals[::downSampleToShow].plot(x=\"id\", y=\"Fp1\", ax=axis)\n",
        "\n",
        "plt.show()\n",
        "train_set_signals[::downSampleToShow].plot(x=\"id\", y=\"PO10\", ax=axis, figsize=(15,5))\n",
        "plt.show()"
      ],
      "metadata": {
        "id": "7YEVY1jLCM4e",
        "colab": {
          "base_uri": "https://localhost:8080/",
          "height": 450
        },
        "outputId": "77cea3ce-d69e-465f-8ffa-d0ff4ec91fb8"
      },
      "execution_count": 15,
      "outputs": [
        {
          "output_type": "display_data",
          "data": {
            "text/plain": [
              "<Figure size 640x480 with 1 Axes>"
            ],
            "image/png": "[encoded data removed]"
          },
          "metadata": {}
        }
      ]
    },
    {
      "cell_type": "code",
      "execution_count": 16,
      "metadata": {
        "id": "F1q3GFzEvpvS"
      },
      "outputs": [],
      "source": [
        "# Function to read data and labels\n",
        "def read_data_and_labels(extracted_files, extracted_folder):\n",
        "    train_data = []\n",
        "    val_data = []\n",
        "    test_labels = []\n",
        "    train_labels = []\n",
        "\n",
        "    for file_name in extracted_files:\n",
        "        if file_name.endswith('_data.csv'):\n",
        "            subject_id, series = file_name.split('_')[:2]\n",
        "            df = pd.read_csv(os.path.join(extracted_folder, file_name))\n",
        "            df.drop(columns = ['id'], inplace=True)\n",
        "            if series == 'series7' or series == 'series8':\n",
        "                val_data.append(df.T.astype(np.float32))\n",
        "            else:\n",
        "                train_data.append(df.T.astype(np.float32))\n",
        "\n",
        "        elif file_name.endswith('_events.csv'):\n",
        "            subject_id, series = file_name.split('_')[:2]\n",
        "            labels_df = pd.read_csv(os.path.join(extracted_folder, file_name))\n",
        "            labels_df.drop(columns =['id'], inplace=True)\n",
        "            if series == 'series7' or series == 'series8':\n",
        "              test_labels.append(labels_df.T.astype(np.float32))\n",
        "            else:\n",
        "              train_labels.append(labels_df.T.astype(np.float32))\n",
        "\n",
        "\n",
        "    return train_data, val_data, test_labels, train_labels\n",
        "\n",
        "# Read data and labels\n",
        "train_data, val_data, test_labels, train_labels = read_data_and_labels(extracted_files, extracted_folder)\n",
        "\n"
      ]
    },
    {
      "cell_type": "markdown",
      "metadata": {
        "id": "8frS5iWDIp8E"
      },
      "source": [
        "# Create dataset class\n",
        "Note: example gets rid of long chunks of data with no events-> could be something to look into"
      ]
    },
    {
      "cell_type": "code",
      "execution_count": 41,
      "metadata": {
        "id": "6qHzDGkGiEQf",
        "colab": {
          "base_uri": "https://localhost:8080/",
          "height": 1000
        },
        "outputId": "bfdef39a-a930-4d3c-b7c5-26bef8b25a5f"
      },
      "outputs": [
        {
          "output_type": "stream",
          "name": "stdout",
          "text": [
            "[ 1.6521321e+02  1.9680322e+02  3.4010010e+02  1.3676856e+01\n",
            " -9.4881785e-01  2.9744266e+02  1.2525447e+01  2.9855212e+02\n",
            "  6.8403191e+01 -1.6403246e+00  1.3097963e+02  6.5670807e+01\n",
            "  3.0193024e+02 -3.1330526e+00  1.0008968e+02  6.8126343e+01\n",
            "  6.1008999e+01  1.8025743e+01  3.7268856e+01  5.1823277e+01\n",
            " -5.6799397e+01  1.6299698e+02  2.1790497e+02  9.6748260e+01\n",
            "  1.3691936e+02  1.5809033e+02  2.3933929e+02 -2.8873249e+01\n",
            "  1.6178569e+02 -3.4979079e+00 -4.7365791e+01 -3.3007589e-01]\n",
            "      0       1       2       3       4       5       6       7       8       \\\n",
            "Fp1   -304.0  -300.0  -286.0  -281.0  -294.0  -297.0  -286.0  -249.0  -295.0   \n",
            "Fp2   -156.0  -151.0  -227.0  -272.0  -194.0  -132.0  -124.0  -131.0  -171.0   \n",
            "F7    -411.0  -376.0  -400.0  -447.0  -432.0  -406.0  -372.0  -307.0  -286.0   \n",
            "F3    -640.0  -670.0  -724.0  -702.0  -693.0  -685.0  -677.0  -630.0  -667.0   \n",
            "Fz    -505.0  -509.0  -525.0  -540.0  -503.0  -526.0  -531.0  -506.0  -505.0   \n",
            "F4    -603.0  -622.0  -631.0  -640.0  -609.0  -603.0  -589.0  -588.0  -616.0   \n",
            "F8    -451.0  -422.0  -469.0  -492.0  -500.0  -521.0  -442.0  -417.0  -488.0   \n",
            "FC5    104.0    60.0    70.0    71.0   109.0   144.0   162.0   143.0   118.0   \n",
            "FC1   -344.0  -374.0  -378.0  -386.0  -385.0  -387.0  -385.0  -366.0  -377.0   \n",
            "FC2   -784.0  -815.0  -811.0  -807.0  -797.0  -810.0  -804.0  -780.0  -794.0   \n",
            "FC6   -387.0  -386.0  -390.0  -396.0  -372.0  -378.0  -344.0  -324.0  -329.0   \n",
            "T7    -308.0  -326.0  -353.0  -354.0  -353.0  -360.0  -325.0  -272.0  -310.0   \n",
            "C3      35.0    24.0    11.0     1.0     5.0   -28.0     0.0    17.0    20.0   \n",
            "Cz    -730.0  -725.0  -728.0  -739.0  -719.0  -741.0  -739.0  -691.0  -693.0   \n",
            "C4    -161.0  -178.0  -189.0  -192.0  -167.0  -183.0  -160.0  -131.0  -127.0   \n",
            "T8    -345.0  -335.0  -320.0  -343.0  -326.0  -333.0  -332.0  -310.0  -266.0   \n",
            "TP9   -342.0  -285.0  -307.0  -404.0  -373.0  -383.0  -403.0  -363.0  -315.0   \n",
            "CP5   -928.0  -936.0  -937.0  -907.0  -897.0  -950.0  -910.0  -865.0  -859.0   \n",
            "CP1   -536.0  -568.0  -569.0  -572.0  -549.0  -567.0  -562.0  -540.0  -515.0   \n",
            "CP2   -371.0  -378.0  -394.0  -389.0  -372.0  -377.0  -366.0  -318.0  -297.0   \n",
            "CP6   -660.0  -665.0  -651.0  -647.0  -637.0  -662.0  -623.0  -587.0  -548.0   \n",
            "TP10  -107.0  -105.0  -169.0  -179.0   -82.0  -104.0   -74.0   -31.0   -46.0   \n",
            "P7    -197.0  -203.0  -176.0  -154.0  -146.0  -193.0  -200.0  -161.0  -146.0   \n",
            "P3    -597.0  -611.0  -608.0  -605.0  -602.0  -609.0  -593.0  -563.0  -531.0   \n",
            "Pz    -242.0  -224.0  -234.0  -246.0  -226.0  -216.0  -205.0  -169.0  -144.0   \n",
            "P4    -472.0  -471.0  -475.0  -488.0  -448.0  -448.0  -433.0  -379.0  -336.0   \n",
            "P8     -56.0   -53.0   -78.0   -73.0   -25.0   -21.0   -19.0    20.0    39.0   \n",
            "PO9   -338.0  -310.0  -282.0  -304.0  -342.0  -378.0  -378.0  -285.0  -239.0   \n",
            "O1    -335.0  -326.0  -289.0  -337.0  -333.0  -341.0  -354.0  -264.0  -249.0   \n",
            "Oz    -518.0  -511.0  -505.0  -539.0  -549.0  -582.0  -579.0  -515.0  -470.0   \n",
            "O2    -371.0  -396.0  -424.0  -412.0  -400.0  -384.0  -404.0  -335.0  -312.0   \n",
            "PO10  -177.0  -189.0  -193.0  -192.0  -157.0  -152.0  -115.0   -50.0   -61.0   \n",
            "\n",
            "      9       ...  262377  262378  262379  262380  262381  262382  262383  \\\n",
            "Fp1   -321.0  ...   -72.0   -57.0    -6.0   -17.0    -8.0    54.0    56.0   \n",
            "Fp2   -198.0  ...    15.0   -28.0   -41.0   -71.0  -106.0   -64.0   -66.0   \n",
            "F7    -333.0  ...  -155.0  -210.0  -164.0  -180.0  -141.0   -67.0   -32.0   \n",
            "F3    -732.0  ...  -425.0  -432.0  -453.0  -445.0  -415.0  -419.0  -446.0   \n",
            "Fz    -515.0  ...  -306.0  -311.0  -331.0  -312.0  -335.0  -319.0  -321.0   \n",
            "F4    -618.0  ...  -140.0  -157.0  -142.0  -132.0  -153.0  -117.0  -117.0   \n",
            "F8    -532.0  ...  -247.0  -264.0  -248.0  -249.0  -284.0  -266.0  -241.0   \n",
            "FC5     70.0  ...   158.0   122.0    69.0   102.0   109.0   120.0    42.0   \n",
            "FC1   -387.0  ...  -206.0  -205.0  -226.0  -223.0  -224.0  -196.0  -219.0   \n",
            "FC2   -794.0  ...  -471.0  -472.0  -462.0  -458.0  -482.0  -456.0  -479.0   \n",
            "FC6   -355.0  ...  -194.0  -205.0  -206.0  -200.0  -224.0  -182.0  -181.0   \n",
            "T7    -362.0  ...  -340.0  -389.0  -455.0  -465.0  -461.0  -399.0  -387.0   \n",
            "C3      35.0  ...  -157.0  -182.0  -218.0  -218.0  -215.0  -169.0  -211.0   \n",
            "Cz    -688.0  ...  -397.0  -382.0  -401.0  -405.0  -419.0  -410.0  -426.0   \n",
            "C4    -130.0  ...   -95.0   -92.0   -96.0  -109.0  -115.0   -92.0   -88.0   \n",
            "T8    -273.0  ...  -173.0  -191.0  -194.0  -199.0  -227.0  -189.0  -173.0   \n",
            "TP9   -280.0  ...   -63.0   -55.0  -194.0  -246.0  -199.0  -186.0  -181.0   \n",
            "CP5   -879.0  ...  -454.0  -501.0  -514.0  -535.0  -582.0  -536.0  -570.0   \n",
            "CP1   -514.0  ...  -265.0  -272.0  -287.0  -290.0  -309.0  -302.0  -326.0   \n",
            "CP2   -292.0  ...  -151.0  -144.0  -149.0  -159.0  -184.0  -149.0  -164.0   \n",
            "CP6   -549.0  ...  -469.0  -468.0  -494.0  -512.0  -526.0  -491.0  -490.0   \n",
            "TP10   -75.0  ...   138.0    99.0    57.0    63.0    40.0    75.0    62.0   \n",
            "P7    -183.0  ...  -172.0  -198.0  -233.0  -269.0  -291.0  -279.0  -300.0   \n",
            "P3    -540.0  ...  -483.0  -506.0  -538.0  -535.0  -574.0  -535.0  -569.0   \n",
            "Pz    -149.0  ...  -315.0  -299.0  -311.0  -308.0  -341.0  -325.0  -318.0   \n",
            "P4    -321.0  ...  -203.0  -208.0  -214.0  -216.0  -257.0  -214.0  -213.0   \n",
            "P8      29.0  ...     9.0     5.0    -3.0   -34.0   -65.0   -25.0   -34.0   \n",
            "PO9   -255.0  ...  -158.0  -213.0  -251.0  -221.0  -258.0  -244.0  -254.0   \n",
            "O1    -237.0  ...  -293.0  -306.0  -337.0  -363.0  -398.0  -393.0  -392.0   \n",
            "Oz    -494.0  ...  -678.0  -704.0  -726.0  -719.0  -777.0  -737.0  -731.0   \n",
            "O2    -350.0  ...  -387.0  -396.0  -399.0  -417.0  -477.0  -455.0  -438.0   \n",
            "PO10  -153.0  ...   -98.0  -111.0  -130.0  -119.0  -176.0  -185.0  -222.0   \n",
            "\n",
            "      262384  262385  262386  \n",
            "Fp1     79.0    75.0    38.0  \n",
            "Fp2     -7.0    30.0   -31.0  \n",
            "F7      18.0    44.0   -21.0  \n",
            "F3    -445.0  -440.0  -496.0  \n",
            "Fz    -305.0  -282.0  -315.0  \n",
            "F4     -88.0   -90.0  -120.0  \n",
            "F8    -210.0  -206.0  -262.0  \n",
            "FC5      1.0    16.0   -19.0  \n",
            "FC1   -223.0  -225.0  -249.0  \n",
            "FC2   -470.0  -437.0  -456.0  \n",
            "FC6   -159.0  -139.0  -147.0  \n",
            "T7    -372.0  -339.0  -371.0  \n",
            "C3    -215.0  -216.0  -236.0  \n",
            "Cz    -423.0  -412.0  -413.0  \n",
            "C4     -77.0   -69.0   -71.0  \n",
            "T8    -148.0  -105.0  -123.0  \n",
            "TP9   -159.0  -188.0  -169.0  \n",
            "CP5   -566.0  -544.0  -550.0  \n",
            "CP1   -303.0  -308.0  -320.0  \n",
            "CP2   -159.0  -148.0  -134.0  \n",
            "CP6   -459.0  -451.0  -452.0  \n",
            "TP10   107.0   137.0   117.0  \n",
            "P7    -289.0  -246.0  -246.0  \n",
            "P3    -582.0  -552.0  -546.0  \n",
            "Pz    -310.0  -301.0  -313.0  \n",
            "P4    -194.0  -165.0  -162.0  \n",
            "P8      14.0    70.0    37.0  \n",
            "PO9   -244.0  -196.0  -192.0  \n",
            "O1    -380.0  -363.0  -361.0  \n",
            "Oz    -716.0  -703.0  -709.0  \n",
            "O2    -414.0  -383.0  -371.0  \n",
            "PO10  -171.0  -123.0  -127.0  \n",
            "\n",
            "[32 rows x 262387 columns]\n"
          ]
        },
        {
          "output_type": "error",
          "ename": "ValueError",
          "evalue": "Unable to coerce to Series, length must be 262387: given 14819347",
          "traceback": [
            "\u001b[0;31m---------------------------------------------------------------------------\u001b[0m",
            "\u001b[0;31mValueError\u001b[0m                                Traceback (most recent call last)",
            "\u001b[0;32m<ipython-input-41-8dcc3403ce9e>\u001b[0m in \u001b[0;36m<cell line: 65>\u001b[0;34m()\u001b[0m\n\u001b[1;32m     63\u001b[0m \u001b[0mnormalise\u001b[0m \u001b[0;34m=\u001b[0m \u001b[0;32mTrue\u001b[0m\u001b[0;34m\u001b[0m\u001b[0;34m\u001b[0m\u001b[0m\n\u001b[1;32m     64\u001b[0m \u001b[0mtest\u001b[0m \u001b[0;34m=\u001b[0m \u001b[0;32mFalse\u001b[0m\u001b[0;34m\u001b[0m\u001b[0;34m\u001b[0m\u001b[0m\n\u001b[0;32m---> 65\u001b[0;31m \u001b[0mtrain_dataset\u001b[0m \u001b[0;34m=\u001b[0m \u001b[0mEEGDataset\u001b[0m\u001b[0;34m(\u001b[0m\u001b[0mtrain_data\u001b[0m\u001b[0;34m,\u001b[0m \u001b[0mtrain_labels\u001b[0m\u001b[0;34m,\u001b[0m \u001b[0min_len\u001b[0m\u001b[0;34m,\u001b[0m \u001b[0mnormalise\u001b[0m\u001b[0;34m,\u001b[0m \u001b[0mtest\u001b[0m\u001b[0;34m)\u001b[0m\u001b[0;34m\u001b[0m\u001b[0;34m\u001b[0m\u001b[0m\n\u001b[0m\u001b[1;32m     66\u001b[0m \u001b[0mtrain_mean\u001b[0m \u001b[0;34m=\u001b[0m \u001b[0mtrain_dataset\u001b[0m\u001b[0;34m.\u001b[0m\u001b[0mgetmean\u001b[0m\u001b[0;34m(\u001b[0m\u001b[0;34m)\u001b[0m\u001b[0;34m\u001b[0m\u001b[0;34m\u001b[0m\u001b[0m\n\u001b[1;32m     67\u001b[0m \u001b[0mtrain_std\u001b[0m \u001b[0;34m=\u001b[0m \u001b[0mtrain_dataset\u001b[0m\u001b[0;34m.\u001b[0m\u001b[0mgetstd\u001b[0m\u001b[0;34m(\u001b[0m\u001b[0;34m)\u001b[0m\u001b[0;34m\u001b[0m\u001b[0;34m\u001b[0m\u001b[0m\n",
            "\u001b[0;32m<ipython-input-41-8dcc3403ce9e>\u001b[0m in \u001b[0;36m__init__\u001b[0;34m(self, data, labels, in_len, normalise, test, train_mean, train_std)\u001b[0m\n\u001b[1;32m     17\u001b[0m \u001b[0;34m\u001b[0m\u001b[0m\n\u001b[1;32m     18\u001b[0m         \u001b[0;32mif\u001b[0m \u001b[0mself\u001b[0m\u001b[0;34m.\u001b[0m\u001b[0mnormalised\u001b[0m\u001b[0;34m:\u001b[0m\u001b[0;34m\u001b[0m\u001b[0;34m\u001b[0m\u001b[0m\n\u001b[0;32m---> 19\u001b[0;31m           \u001b[0mself\u001b[0m\u001b[0;34m.\u001b[0m\u001b[0mnormalise\u001b[0m\u001b[0;34m(\u001b[0m\u001b[0;34m)\u001b[0m\u001b[0;34m\u001b[0m\u001b[0;34m\u001b[0m\u001b[0m\n\u001b[0m\u001b[1;32m     20\u001b[0m \u001b[0;34m\u001b[0m\u001b[0m\n\u001b[1;32m     21\u001b[0m         \u001b[0mself\u001b[0m\u001b[0;34m.\u001b[0m\u001b[0mindex\u001b[0m \u001b[0;34m=\u001b[0m \u001b[0;34m[\u001b[0m\u001b[0;34m(\u001b[0m\u001b[0mi\u001b[0m\u001b[0;34m,\u001b[0m \u001b[0mj\u001b[0m\u001b[0;34m)\u001b[0m \u001b[0;32mfor\u001b[0m \u001b[0mi\u001b[0m \u001b[0;32min\u001b[0m \u001b[0mrange\u001b[0m\u001b[0;34m(\u001b[0m\u001b[0mlen\u001b[0m\u001b[0;34m(\u001b[0m\u001b[0mdata\u001b[0m\u001b[0;34m)\u001b[0m\u001b[0;34m)\u001b[0m \u001b[0;32mfor\u001b[0m \u001b[0mj\u001b[0m \u001b[0;32min\u001b[0m \u001b[0mrange\u001b[0m\u001b[0;34m(\u001b[0m\u001b[0mdata\u001b[0m\u001b[0;34m[\u001b[0m\u001b[0mi\u001b[0m\u001b[0;34m]\u001b[0m\u001b[0;34m.\u001b[0m\u001b[0mshape\u001b[0m\u001b[0;34m[\u001b[0m\u001b[0;36m1\u001b[0m\u001b[0;34m]\u001b[0m\u001b[0;34m)\u001b[0m\u001b[0;34m]\u001b[0m\u001b[0;34m\u001b[0m\u001b[0;34m\u001b[0m\u001b[0m\n",
            "\u001b[0;32m<ipython-input-41-8dcc3403ce9e>\u001b[0m in \u001b[0;36mnormalise\u001b[0;34m(self)\u001b[0m\n\u001b[1;32m     36\u001b[0m         \u001b[0;31m# for each column of the data, subtract mean\u001b[0m\u001b[0;34m\u001b[0m\u001b[0;34m\u001b[0m\u001b[0m\n\u001b[1;32m     37\u001b[0m         \u001b[0;32mfor\u001b[0m \u001b[0mi\u001b[0m \u001b[0;32min\u001b[0m \u001b[0mrange\u001b[0m\u001b[0;34m(\u001b[0m\u001b[0mlen\u001b[0m\u001b[0;34m(\u001b[0m\u001b[0mself\u001b[0m\u001b[0;34m.\u001b[0m\u001b[0mdata\u001b[0m\u001b[0;34m)\u001b[0m\u001b[0;34m)\u001b[0m\u001b[0;34m:\u001b[0m\u001b[0;34m\u001b[0m\u001b[0;34m\u001b[0m\u001b[0m\n\u001b[0;32m---> 38\u001b[0;31m           \u001b[0mself\u001b[0m\u001b[0;34m.\u001b[0m\u001b[0mdata\u001b[0m\u001b[0;34m[\u001b[0m\u001b[0mi\u001b[0m\u001b[0;34m]\u001b[0m \u001b[0;34m-=\u001b[0m \u001b[0mself\u001b[0m\u001b[0;34m.\u001b[0m\u001b[0mmean\u001b[0m\u001b[0;34m\u001b[0m\u001b[0;34m\u001b[0m\u001b[0m\n\u001b[0m\u001b[1;32m     39\u001b[0m           \u001b[0mself\u001b[0m\u001b[0;34m.\u001b[0m\u001b[0mdata\u001b[0m\u001b[0;34m[\u001b[0m\u001b[0mi\u001b[0m\u001b[0;34m]\u001b[0m \u001b[0;34m/=\u001b[0m \u001b[0mself\u001b[0m\u001b[0;34m.\u001b[0m\u001b[0mstd\u001b[0m\u001b[0;34m\u001b[0m\u001b[0;34m\u001b[0m\u001b[0m\n\u001b[1;32m     40\u001b[0m \u001b[0;34m\u001b[0m\u001b[0m\n",
            "\u001b[0;32m/usr/local/lib/python3.10/dist-packages/pandas/core/generic.py\u001b[0m in \u001b[0;36m__isub__\u001b[0;34m(self, other)\u001b[0m\n\u001b[1;32m  11794\u001b[0m     \u001b[0;32mdef\u001b[0m \u001b[0m__isub__\u001b[0m\u001b[0;34m(\u001b[0m\u001b[0mself\u001b[0m\u001b[0;34m:\u001b[0m \u001b[0mNDFrameT\u001b[0m\u001b[0;34m,\u001b[0m \u001b[0mother\u001b[0m\u001b[0;34m)\u001b[0m \u001b[0;34m->\u001b[0m \u001b[0mNDFrameT\u001b[0m\u001b[0;34m:\u001b[0m\u001b[0;34m\u001b[0m\u001b[0;34m\u001b[0m\u001b[0m\n\u001b[1;32m  11795\u001b[0m         \u001b[0;31m# error: Unsupported left operand type for - (\"Type[NDFrame]\")\u001b[0m\u001b[0;34m\u001b[0m\u001b[0;34m\u001b[0m\u001b[0m\n\u001b[0;32m> 11796\u001b[0;31m         \u001b[0;32mreturn\u001b[0m \u001b[0mself\u001b[0m\u001b[0;34m.\u001b[0m\u001b[0m_inplace_method\u001b[0m\u001b[0;34m(\u001b[0m\u001b[0mother\u001b[0m\u001b[0;34m,\u001b[0m \u001b[0mtype\u001b[0m\u001b[0;34m(\u001b[0m\u001b[0mself\u001b[0m\u001b[0;34m)\u001b[0m\u001b[0;34m.\u001b[0m\u001b[0m__sub__\u001b[0m\u001b[0;34m)\u001b[0m  \u001b[0;31m# type: ignore[operator]\u001b[0m\u001b[0;34m\u001b[0m\u001b[0;34m\u001b[0m\u001b[0m\n\u001b[0m\u001b[1;32m  11797\u001b[0m \u001b[0;34m\u001b[0m\u001b[0m\n\u001b[1;32m  11798\u001b[0m     \u001b[0;32mdef\u001b[0m \u001b[0m__imul__\u001b[0m\u001b[0;34m(\u001b[0m\u001b[0mself\u001b[0m\u001b[0;34m:\u001b[0m \u001b[0mNDFrameT\u001b[0m\u001b[0;34m,\u001b[0m \u001b[0mother\u001b[0m\u001b[0;34m)\u001b[0m \u001b[0;34m->\u001b[0m \u001b[0mNDFrameT\u001b[0m\u001b[0;34m:\u001b[0m\u001b[0;34m\u001b[0m\u001b[0;34m\u001b[0m\u001b[0m\n",
            "\u001b[0;32m/usr/local/lib/python3.10/dist-packages/pandas/core/generic.py\u001b[0m in \u001b[0;36m_inplace_method\u001b[0;34m(self, other, op)\u001b[0m\n\u001b[1;32m  11763\u001b[0m         \u001b[0mWrap\u001b[0m \u001b[0marithmetic\u001b[0m \u001b[0mmethod\u001b[0m \u001b[0mto\u001b[0m \u001b[0moperate\u001b[0m \u001b[0minplace\u001b[0m\u001b[0;34m.\u001b[0m\u001b[0;34m\u001b[0m\u001b[0;34m\u001b[0m\u001b[0m\n\u001b[1;32m  11764\u001b[0m         \"\"\"\n\u001b[0;32m> 11765\u001b[0;31m         \u001b[0mresult\u001b[0m \u001b[0;34m=\u001b[0m \u001b[0mop\u001b[0m\u001b[0;34m(\u001b[0m\u001b[0mself\u001b[0m\u001b[0;34m,\u001b[0m \u001b[0mother\u001b[0m\u001b[0;34m)\u001b[0m\u001b[0;34m\u001b[0m\u001b[0;34m\u001b[0m\u001b[0m\n\u001b[0m\u001b[1;32m  11766\u001b[0m \u001b[0;34m\u001b[0m\u001b[0m\n\u001b[1;32m  11767\u001b[0m         if (\n",
            "\u001b[0;32m/usr/local/lib/python3.10/dist-packages/pandas/core/ops/common.py\u001b[0m in \u001b[0;36mnew_method\u001b[0;34m(self, other)\u001b[0m\n\u001b[1;32m     79\u001b[0m         \u001b[0mother\u001b[0m \u001b[0;34m=\u001b[0m \u001b[0mitem_from_zerodim\u001b[0m\u001b[0;34m(\u001b[0m\u001b[0mother\u001b[0m\u001b[0;34m)\u001b[0m\u001b[0;34m\u001b[0m\u001b[0;34m\u001b[0m\u001b[0m\n\u001b[1;32m     80\u001b[0m \u001b[0;34m\u001b[0m\u001b[0m\n\u001b[0;32m---> 81\u001b[0;31m         \u001b[0;32mreturn\u001b[0m \u001b[0mmethod\u001b[0m\u001b[0;34m(\u001b[0m\u001b[0mself\u001b[0m\u001b[0;34m,\u001b[0m \u001b[0mother\u001b[0m\u001b[0;34m)\u001b[0m\u001b[0;34m\u001b[0m\u001b[0;34m\u001b[0m\u001b[0m\n\u001b[0m\u001b[1;32m     82\u001b[0m \u001b[0;34m\u001b[0m\u001b[0m\n\u001b[1;32m     83\u001b[0m     \u001b[0;32mreturn\u001b[0m \u001b[0mnew_method\u001b[0m\u001b[0;34m\u001b[0m\u001b[0;34m\u001b[0m\u001b[0m\n",
            "\u001b[0;32m/usr/local/lib/python3.10/dist-packages/pandas/core/arraylike.py\u001b[0m in \u001b[0;36m__sub__\u001b[0;34m(self, other)\u001b[0m\n\u001b[1;32m    192\u001b[0m     \u001b[0;34m@\u001b[0m\u001b[0munpack_zerodim_and_defer\u001b[0m\u001b[0;34m(\u001b[0m\u001b[0;34m\"__sub__\"\u001b[0m\u001b[0;34m)\u001b[0m\u001b[0;34m\u001b[0m\u001b[0;34m\u001b[0m\u001b[0m\n\u001b[1;32m    193\u001b[0m     \u001b[0;32mdef\u001b[0m \u001b[0m__sub__\u001b[0m\u001b[0;34m(\u001b[0m\u001b[0mself\u001b[0m\u001b[0;34m,\u001b[0m \u001b[0mother\u001b[0m\u001b[0;34m)\u001b[0m\u001b[0;34m:\u001b[0m\u001b[0;34m\u001b[0m\u001b[0;34m\u001b[0m\u001b[0m\n\u001b[0;32m--> 194\u001b[0;31m         \u001b[0;32mreturn\u001b[0m \u001b[0mself\u001b[0m\u001b[0;34m.\u001b[0m\u001b[0m_arith_method\u001b[0m\u001b[0;34m(\u001b[0m\u001b[0mother\u001b[0m\u001b[0;34m,\u001b[0m \u001b[0moperator\u001b[0m\u001b[0;34m.\u001b[0m\u001b[0msub\u001b[0m\u001b[0;34m)\u001b[0m\u001b[0;34m\u001b[0m\u001b[0;34m\u001b[0m\u001b[0m\n\u001b[0m\u001b[1;32m    195\u001b[0m \u001b[0;34m\u001b[0m\u001b[0m\n\u001b[1;32m    196\u001b[0m     \u001b[0;34m@\u001b[0m\u001b[0munpack_zerodim_and_defer\u001b[0m\u001b[0;34m(\u001b[0m\u001b[0;34m\"__rsub__\"\u001b[0m\u001b[0;34m)\u001b[0m\u001b[0;34m\u001b[0m\u001b[0;34m\u001b[0m\u001b[0m\n",
            "\u001b[0;32m/usr/local/lib/python3.10/dist-packages/pandas/core/frame.py\u001b[0m in \u001b[0;36m_arith_method\u001b[0;34m(self, other, op)\u001b[0m\n\u001b[1;32m   7453\u001b[0m         \u001b[0mother\u001b[0m \u001b[0;34m=\u001b[0m \u001b[0mops\u001b[0m\u001b[0;34m.\u001b[0m\u001b[0mmaybe_prepare_scalar_for_op\u001b[0m\u001b[0;34m(\u001b[0m\u001b[0mother\u001b[0m\u001b[0;34m,\u001b[0m \u001b[0;34m(\u001b[0m\u001b[0mself\u001b[0m\u001b[0;34m.\u001b[0m\u001b[0mshape\u001b[0m\u001b[0;34m[\u001b[0m\u001b[0maxis\u001b[0m\u001b[0;34m]\u001b[0m\u001b[0;34m,\u001b[0m\u001b[0;34m)\u001b[0m\u001b[0;34m)\u001b[0m\u001b[0;34m\u001b[0m\u001b[0;34m\u001b[0m\u001b[0m\n\u001b[1;32m   7454\u001b[0m \u001b[0;34m\u001b[0m\u001b[0m\n\u001b[0;32m-> 7455\u001b[0;31m         \u001b[0mself\u001b[0m\u001b[0;34m,\u001b[0m \u001b[0mother\u001b[0m \u001b[0;34m=\u001b[0m \u001b[0mops\u001b[0m\u001b[0;34m.\u001b[0m\u001b[0malign_method_FRAME\u001b[0m\u001b[0;34m(\u001b[0m\u001b[0mself\u001b[0m\u001b[0;34m,\u001b[0m \u001b[0mother\u001b[0m\u001b[0;34m,\u001b[0m \u001b[0maxis\u001b[0m\u001b[0;34m,\u001b[0m \u001b[0mflex\u001b[0m\u001b[0;34m=\u001b[0m\u001b[0;32mTrue\u001b[0m\u001b[0;34m,\u001b[0m \u001b[0mlevel\u001b[0m\u001b[0;34m=\u001b[0m\u001b[0;32mNone\u001b[0m\u001b[0;34m)\u001b[0m\u001b[0;34m\u001b[0m\u001b[0;34m\u001b[0m\u001b[0m\n\u001b[0m\u001b[1;32m   7456\u001b[0m \u001b[0;34m\u001b[0m\u001b[0m\n\u001b[1;32m   7457\u001b[0m         \u001b[0mnew_data\u001b[0m \u001b[0;34m=\u001b[0m \u001b[0mself\u001b[0m\u001b[0;34m.\u001b[0m\u001b[0m_dispatch_frame_op\u001b[0m\u001b[0;34m(\u001b[0m\u001b[0mother\u001b[0m\u001b[0;34m,\u001b[0m \u001b[0mop\u001b[0m\u001b[0;34m,\u001b[0m \u001b[0maxis\u001b[0m\u001b[0;34m=\u001b[0m\u001b[0maxis\u001b[0m\u001b[0;34m)\u001b[0m\u001b[0;34m\u001b[0m\u001b[0;34m\u001b[0m\u001b[0m\n",
            "\u001b[0;32m/usr/local/lib/python3.10/dist-packages/pandas/core/ops/__init__.py\u001b[0m in \u001b[0;36malign_method_FRAME\u001b[0;34m(left, right, axis, flex, level)\u001b[0m\n\u001b[1;32m    258\u001b[0m     \u001b[0;32mif\u001b[0m \u001b[0misinstance\u001b[0m\u001b[0;34m(\u001b[0m\u001b[0mright\u001b[0m\u001b[0;34m,\u001b[0m \u001b[0mnp\u001b[0m\u001b[0;34m.\u001b[0m\u001b[0mndarray\u001b[0m\u001b[0;34m)\u001b[0m\u001b[0;34m:\u001b[0m\u001b[0;34m\u001b[0m\u001b[0;34m\u001b[0m\u001b[0m\n\u001b[1;32m    259\u001b[0m         \u001b[0;32mif\u001b[0m \u001b[0mright\u001b[0m\u001b[0;34m.\u001b[0m\u001b[0mndim\u001b[0m \u001b[0;34m==\u001b[0m \u001b[0;36m1\u001b[0m\u001b[0;34m:\u001b[0m\u001b[0;34m\u001b[0m\u001b[0;34m\u001b[0m\u001b[0m\n\u001b[0;32m--> 260\u001b[0;31m             \u001b[0mright\u001b[0m \u001b[0;34m=\u001b[0m \u001b[0mto_series\u001b[0m\u001b[0;34m(\u001b[0m\u001b[0mright\u001b[0m\u001b[0;34m)\u001b[0m\u001b[0;34m\u001b[0m\u001b[0;34m\u001b[0m\u001b[0m\n\u001b[0m\u001b[1;32m    261\u001b[0m \u001b[0;34m\u001b[0m\u001b[0m\n\u001b[1;32m    262\u001b[0m         \u001b[0;32melif\u001b[0m \u001b[0mright\u001b[0m\u001b[0;34m.\u001b[0m\u001b[0mndim\u001b[0m \u001b[0;34m==\u001b[0m \u001b[0;36m2\u001b[0m\u001b[0;34m:\u001b[0m\u001b[0;34m\u001b[0m\u001b[0;34m\u001b[0m\u001b[0m\n",
            "\u001b[0;32m/usr/local/lib/python3.10/dist-packages/pandas/core/ops/__init__.py\u001b[0m in \u001b[0;36mto_series\u001b[0;34m(right)\u001b[0m\n\u001b[1;32m    250\u001b[0m         \u001b[0;32melse\u001b[0m\u001b[0;34m:\u001b[0m\u001b[0;34m\u001b[0m\u001b[0;34m\u001b[0m\u001b[0m\n\u001b[1;32m    251\u001b[0m             \u001b[0;32mif\u001b[0m \u001b[0mlen\u001b[0m\u001b[0;34m(\u001b[0m\u001b[0mleft\u001b[0m\u001b[0;34m.\u001b[0m\u001b[0mcolumns\u001b[0m\u001b[0;34m)\u001b[0m \u001b[0;34m!=\u001b[0m \u001b[0mlen\u001b[0m\u001b[0;34m(\u001b[0m\u001b[0mright\u001b[0m\u001b[0;34m)\u001b[0m\u001b[0;34m:\u001b[0m\u001b[0;34m\u001b[0m\u001b[0;34m\u001b[0m\u001b[0m\n\u001b[0;32m--> 252\u001b[0;31m                 raise ValueError(\n\u001b[0m\u001b[1;32m    253\u001b[0m                     \u001b[0mmsg\u001b[0m\u001b[0;34m.\u001b[0m\u001b[0mformat\u001b[0m\u001b[0;34m(\u001b[0m\u001b[0mreq_len\u001b[0m\u001b[0;34m=\u001b[0m\u001b[0mlen\u001b[0m\u001b[0;34m(\u001b[0m\u001b[0mleft\u001b[0m\u001b[0;34m.\u001b[0m\u001b[0mcolumns\u001b[0m\u001b[0;34m)\u001b[0m\u001b[0;34m,\u001b[0m \u001b[0mgiven_len\u001b[0m\u001b[0;34m=\u001b[0m\u001b[0mlen\u001b[0m\u001b[0;34m(\u001b[0m\u001b[0mright\u001b[0m\u001b[0;34m)\u001b[0m\u001b[0;34m)\u001b[0m\u001b[0;34m\u001b[0m\u001b[0;34m\u001b[0m\u001b[0m\n\u001b[1;32m    254\u001b[0m                 )\n",
            "\u001b[0;31mValueError\u001b[0m: Unable to coerce to Series, length must be 262387: given 14819347"
          ]
        }
      ],
      "source": [
        "import torch\n",
        "from torch.utils.data import Dataset, DataLoader\n",
        "\n",
        "# Custom Dataset Class\n",
        "class EEGDataset(Dataset):\n",
        "    def __init__(self, data, labels, in_len, normalise, test, train_mean = 0, train_std = 1):\n",
        "        index = ['Fp1', 'Fp2', 'F7', 'F3', 'Fz', 'F4', 'F8', 'FC5', 'FC1', 'FC2', 'FC6', 'T7', 'C3', 'Cz', 'C4', 'T8', 'TP9', 'CP5', 'CP1', 'CP2', 'CP6', 'TP10', 'P7', 'P3', 'Pz', 'P4', 'P8', 'PO9', 'O1', 'Oz', 'O2', 'PO10']\n",
        "        self.data = data\n",
        "        self.labels = labels\n",
        "        self.in_len = in_len\n",
        "        if not test:\n",
        "          self.mean = pd.series(np.concatenate(self.data,axis=1).mean(axis=0),index=index)\n",
        "          self.std = pd.series(np.concatenate(self.data,axis=1).std(axis=0),index=index)\n",
        "        else:\n",
        "          self.mean = train_mean\n",
        "          self.std = train_std\n",
        "        self.normalised = normalise\n",
        "\n",
        "        if self.normalised:\n",
        "          self.normalise()\n",
        "\n",
        "        self.index = [(i, j) for i in range(len(data)) for j in range(data[i].shape[1])]\n",
        "\n",
        "\n",
        "\n",
        "    def __len__(self):\n",
        "        return len(self.index)\n",
        "        #return len(self.data)\n",
        "\n",
        "    def getmean(self):\n",
        "      return self.mean\n",
        "\n",
        "    def getstd(self):\n",
        "      return self.std\n",
        "\n",
        "    def normalise(self):\n",
        "        # for each column of the data, subtract mean\n",
        "        for i in range(len(self.data)):\n",
        "          self.data[i] = self.data[i].sub(self.mean,axis=0)\n",
        "          self.data[i] = self.data[i].sub(self.std,axis=0)\n",
        "\n",
        "    def __getitem__(self, idx):\n",
        "\n",
        "        i, j = self.index[idx]\n",
        "\n",
        "        data, labels = self.data[i].iloc[:,max(0, j - self.in_len + 1):j + 1], self.labels[i].iloc[:,j]\n",
        "        #print('checkpoint')\n",
        "        data_array = np.array(data, dtype=np.float32)\n",
        "        labels_array = np.array(labels, dtype=np.float32)\n",
        "\n",
        "        if (data_array.shape[1] < self.in_len):\n",
        "          data_array = np.pad(data_array, ((0,0),(self.in_len-data.shape[1],0)),mode='edge')#, constant_values=np.float32(0.0))\n",
        "\n",
        "        data, label = torch.from_numpy(data_array.astype(np.float32)), torch.from_numpy(labels_array.astype(np.float32))\n",
        "        #data, label = torch.from_numpy(np.array(data, dtype=np.float32)), torch.from_numpy(np.array(labels, dtype=np.float32))\n",
        "        return data, label\n",
        "\n",
        "\n",
        "# Create Dataset instances\n",
        "# final argument must be an ingeger between 1 and 33 -> the larger the number the more computationally complex\n",
        "print(np.concatenate(train_data,axis=1).mean(axis=1))\n",
        "print(train_data[0])\n",
        "in_len = 128\n",
        "normalise = True\n",
        "test = False\n",
        "train_dataset = EEGDataset(train_data, train_labels, in_len, normalise, test)\n",
        "train_mean = train_dataset.getmean()\n",
        "train_std = train_dataset.getstd()\n",
        "\n",
        "# The validation and test sets use the mean and standard deviation from train\n",
        "# As this is all that's available to the model. When test is set to true,\n",
        "# pass in the train mean and std\n",
        "normalise = True\n",
        "test = True\n",
        "val_dataset = EEGDataset(val_data, test_labels, in_len, normalise, test, train_mean, train_std)\n",
        "\n",
        "data_loader = DataLoader(train_dataset, batch_size=1024)\n",
        "val_loader = DataLoader(val_dataset, batch_size=1024)\n"
      ]
    },
    {
      "cell_type": "code",
      "execution_count": null,
      "metadata": {
        "id": "g1CWDR2CUAlv"
      },
      "outputs": [],
      "source": [
        "#print(train_dataset.shape)\n",
        "\"\"\"\n",
        "for i in range(len(train_data)):\n",
        "  #print (train_data[i].shape[1])\n",
        "  if (train_data[i].shape[1] != train_labels[i].shape[1]):\n",
        "    print(\"error match\")\n",
        "  if (train_data[i].shape[0] != 32):\n",
        "    print(\"error dim\")\n",
        "\n",
        "for i in range(len(train_labels)):\n",
        "  print (train_labels[i].shape[1])\n",
        "  if (train_labels[i].shape[0] != 6):\n",
        "    print(\"error dim\")\n",
        "\"\"\"\n",
        "\"\"\"\n",
        "nested_list = [[1, 2, 3], [4, 5, 6], [7, 8, 9]]\n",
        "nested_array = np.array(nested_list)\n",
        "print(nested_array)\n",
        "\n",
        "\n",
        "#print(type(train_data[0]))\n",
        "#print(train_data[0].iloc[:,0:2])\n",
        "\n",
        "print(train_dataset[100][0].shape)\n",
        "print(len(train_dataset))\n",
        "for inputs, labels in dataLoader:\n",
        "    print(\"Input shape:\", inputs.shape)\n",
        "    print(\"Labels shape:\", labels.shape)\n",
        "    break\n",
        "#print(train_dataset[]\n",
        "#print([(i, j) for i in range(len(train_data)) for j in range(train_data[i].shape[1])])\n",
        "#print(train_data[0][1][0])\n",
        "#print([len(train_data[0][i]) for i in range(len(train_data[0]))])\n",
        "\n",
        "ARchitectures to look at\n",
        "1)Inception\n",
        "2)Densenets\n",
        "3)Resnets\n",
        "\"\"\"\n",
        "#print(train_dataset[500][0].shape)\n",
        "max_pool1 = nn.MaxPool1d(16,16)\n",
        "print(max_pool1(torch.from_numpy(np.random(16,1))))"
      ]
    },
    {
      "cell_type": "markdown",
      "metadata": {
        "id": "ElqXn3ENI4-B"
      },
      "source": [
        "# Create a Neural Network\n"
      ]
    },
    {
      "cell_type": "code",
      "execution_count": null,
      "metadata": {
        "id": "m8A3ZayRI74o"
      },
      "outputs": [],
      "source": [
        "# Define the CNN architecture\n",
        "class EEGCNN(nn.Module):\n",
        "    def __init__(self):\n",
        "        self.channels = 32\n",
        "        self.outchannels = 32\n",
        "        super(EEGCNN, self).__init__()\n",
        "        self.conv1 = nn.Conv1d(in_channels= self.channels, out_channels= self.channels, kernel_size=3, stride=1, padding=1, groups=self.channels)\n",
        "        self.conv2 = nn.Conv1d(in_channels= self.channels, out_channels= self.channels, kernel_size=3, stride=1, padding=1, groups=self.channels)\n",
        "        self.conv3 = nn.Conv1d(in_channels= self.channels, out_channels= self.channels, kernel_size=3, stride=1, padding=1, groups=self.channels)\n",
        "        #self.conv2 = nn.Conv1d(in_channels= self.inchannels, out_channels= self.outchannels, kernel_size=3, stride=1, padding=1)\n",
        "        self.pool = nn.MaxPool1d(kernel_size=2, stride=2)\n",
        "        self.pool_large = nn.MaxPool1d(kernel_size=8, stride=8)\n",
        "        self.fc1 = nn.Linear(self.channels*2, 6)\n",
        "        #self.fc1 = nn.Linear(32 * 125, 128)\n",
        "        self.fc2 = nn.Linear(128, 6)\n",
        "\n",
        "    def forward(self, x):\n",
        "        #64 -> 32\n",
        "        x = self.pool(torch.relu(self.conv1(x)))\n",
        "        #32 -> 16\n",
        "        x = self.pool(torch.relu(self.conv2(x)))\n",
        "        #16 -> 2\n",
        "        #print('check1')\n",
        "        x = self.pool_large(torch.relu(self.conv3(x)))\n",
        "        #x = self.pool(torch.relu(self.conv1(x)))\n",
        "        #print(x.shape)\n",
        "        #x = self.pool(x)\n",
        "        x = x.view(-1, self.channels * 2)  # Flattening\n",
        "        x = torch.relu(self.fc1(x))\n",
        "        #x = self.fc2(x)\n",
        "        return x\n",
        "\n"
      ]
    },
    {
      "cell_type": "code",
      "execution_count": null,
      "metadata": {
        "id": "tqbSCF8FTok1"
      },
      "outputs": [],
      "source": [
        "def dataloader_validation(loader):\n",
        "  input, label = loader.dataset[0]\n",
        "  print(label)\n",
        "  print(input)\n",
        "  return\n",
        "\n",
        "#dataloader_validation(dataLoader)"
      ]
    },
    {
      "cell_type": "code",
      "execution_count": null,
      "metadata": {
        "id": "lymxtOwfKvUS"
      },
      "outputs": [],
      "source": [
        "from tqdm import tqdm\n",
        "\n",
        "# Define model\n",
        "model = EEGCNN().to(device)\n",
        "\n",
        "# Define your loss function\n",
        "criterion = nn.CrossEntropyLoss()\n",
        "\n",
        "# Define your optimizer\n",
        "optimizer = optim.Adam(model.parameters(), lr=0.002)\n",
        "\n",
        "# Set the number of epochs\n",
        "num_epochs = 4\n",
        "\n",
        "# Lists to store the training and validation losses and accuracies\n",
        "train_losses = []\n",
        "train_accuracies = []\n",
        "val_losses = []\n",
        "val_accuracies = []\n",
        "\n",
        "# Training loop\n",
        "for epoch in range(num_epochs):\n",
        "    # Set the model to training mode\n",
        "    model.train()\n",
        "\n",
        "    # Initialize the training loss and accuracy for this epoch\n",
        "    train_loss = 0\n",
        "    train_correct = 0\n",
        "    train_total = 0\n",
        "\n",
        "    # Iterate over the training data\n",
        "    for inputs, labels in tqdm(data_loader):\n",
        "\n",
        "        # Move the inputs and labels to the GPU if available\n",
        "        inputs = inputs.to(device)\n",
        "        labels = labels.to(device)\n",
        "\n",
        "        # Zero the gradients\n",
        "        optimizer.zero_grad()\n",
        "        outputs = model(inputs)\n",
        "        #print(inputs.shape)\n",
        "        #print(outputs.shape)\n",
        "        #print(labels.shape)\n",
        "        loss = criterion(outputs, labels)\n",
        "\n",
        "        # Backward pass\n",
        "        loss.backward()\n",
        "\n",
        "        # Update the weights\n",
        "        optimizer.step()\n",
        "        # Update the training loss and accuracy\n",
        "        train_loss += loss.item() * inputs.size(0)\n",
        "        _, labels_reshape = torch.max(labels, 1)\n",
        "        _, predicted = torch.max(outputs.data, 1)\n",
        "        train_total += labels_reshape.size(0)\n",
        "        train_correct += (predicted == labels_reshape).sum().item()\n",
        "\n",
        "\n",
        "    # Compute the average training loss and accuracy for this epoch\n",
        "    train_loss /= len(data_loader.dataset)\n",
        "    train_accuracy = 100 * train_correct / train_total\n",
        "\n",
        "    # Append the training loss and accuracy to the lists\n",
        "    train_losses.append(train_loss)\n",
        "    train_accuracies.append(train_accuracy)\n",
        "\n",
        "    # Set the model to evaluation mode\n",
        "    model.eval()\n",
        "\n",
        "    # Initialize the validation loss and accuracy for this epoch\n",
        "    val_loss = 0\n",
        "    val_correct = 0\n",
        "    val_total = 0\n",
        "\n",
        "    # Calculate the validation loss and accuracy and append to the lists\n",
        "    with torch.no_grad():\n",
        "      for inputs, labels in tqdm(val_loader):\n",
        "        inputs = inputs.to(device)\n",
        "        labels = labels.to(device)\n",
        "\n",
        "        outputs = model(inputs)\n",
        "\n",
        "        loss = criterion(outputs, labels)\n",
        "\n",
        "        val_loss += loss.item() * inputs.size(0)\n",
        "        _, labels_reshape = torch.max(labels, 1)\n",
        "        _, predicted = torch.max(outputs.data, 1)\n",
        "        val_total += labels_reshape.size(0)\n",
        "        val_correct += (predicted == labels_reshape).sum().item()\n",
        "\n",
        "    # Compute the average validation loss and accuracy for this epoch\n",
        "    val_loss /= len(val_loader.dataset)\n",
        "    val_accuracy = 100 * val_correct / val_total\n",
        "\n",
        "    # Append the validation loss and accuracy to the listsy\n",
        "    val_losses.append(val_loss)\n",
        "    val_accuracies.append(val_accuracy)\n",
        "\n",
        "    # Print the training and validation metrics for this epoch\n",
        "    print(f\"Epoch {epoch+1}/{num_epochs}:\")\n",
        "    print(f\"Train Loss: {train_loss:.4f} | Train Accuracy: {train_accuracy:.2f}%\")\n",
        "    print(f\"Val Loss: {val_loss:.4f} | Val Accuracy: {val_accuracy:.2f}%\")\n",
        "    print()"
      ]
    },
    {
      "cell_type": "markdown",
      "metadata": {
        "id": "ZXR0aQrGfd9l"
      },
      "source": [
        "#Filtering\n",
        "Filtering the Data\n",
        "(maybe do this after we actually have a nn)\n"
      ]
    },
    {
      "cell_type": "code",
      "execution_count": null,
      "metadata": {
        "id": "S2k5pnDTffke"
      },
      "outputs": [],
      "source": [
        "import matplotlib.pyplot as plt\n",
        "from scipy import signal\n",
        "\n",
        "# Making a copy of the dataset so as the maintain the original\n",
        "filtered_train = train_dataset\n",
        "filtered_test = val_dataset\n",
        "\n",
        "def filter_eeg_dataset(EEGDataset, f_low, f_high, order, type, fs):\n",
        "  b, a = signal.butter(order, [f_low, f_high], btype=type, fs=fs)\n",
        "\n",
        "  subject_names = EEGDataset.subject_names\n",
        "\n",
        "  # For each Subject in EEG Dataset\n",
        "  for subject in subject_names:\n",
        "    # For each Series in Subject\n",
        "    for series in range(6):\n",
        "      try:\n",
        "        data_trial = EEGDataset.subjects[subject][series]\n",
        "        # For each Column in series and subject\n",
        "        # Not the first non-numerical columns\n",
        "        for col_name in data_trial.columns:\n",
        "\n",
        "          if col_name != \"id\":\n",
        "            filtered_data = signal.filtfilt(b, a, data_trial[col_name])\n",
        "\n",
        "            # Replace data\n",
        "            EEGDataset.subjects[subject][series][col_name] = filtered_data\n",
        "\n",
        "\n",
        "      # Breaking when we run out of series\n",
        "      except IndexError as e:\n",
        "        print(str(subject) + \" caps at \"+ str(series))\n",
        "        break\n",
        "\n",
        "\n",
        "\n",
        "\n",
        "# System Params\n",
        "order = 4\n",
        "sampling_frequency = 500\n",
        "\n",
        "# High and Low Pass Filter\n",
        "f_low = 1\n",
        "f_high = 100\n",
        "f_type = 'bandpass'\n",
        "\n",
        "filter_eeg_dataset(filtered_train, f_low, f_high, order, f_type, sampling_frequency)\n",
        "filter_eeg_dataset(filtered_test, f_low, f_high, order, f_type, sampling_frequency)\n",
        "\n",
        "# Bandreject\n",
        "f_low = 49\n",
        "f_high = 51\n",
        "f_type = 'bandstop'\n",
        "\n",
        "filter_eeg_dataset(filtered_train, f_low, f_high, order, f_type, sampling_frequency)\n",
        "filter_eeg_dataset(filtered_test, f_low, f_high, order, f_type, sampling_frequency)"
      ]
    },
    {
      "cell_type": "markdown",
      "metadata": {
        "id": "lKDQGVI6fgLE"
      },
      "source": [
        "Feature Extraction\n"
      ]
    },
    {
      "cell_type": "code",
      "execution_count": null,
      "metadata": {
        "id": "fiVSDcvjfiWT"
      },
      "outputs": [],
      "source": []
    }
  ],
  "metadata": {
    "accelerator": "GPU",
    "colab": {
      "gpuType": "T4",
      "provenance": [],
      "include_colab_link": true
    },
    "kernelspec": {
      "display_name": "Python 3",
      "name": "python3"
    },
    "language_info": {
      "codemirror_mode": {
        "name": "ipython",
        "version": 3
      },
      "file_extension": ".py",
      "mimetype": "text/x-python",
      "name": "python",
      "nbconvert_exporter": "python",
      "pygments_lexer": "ipython3",
      "version": "3.9.18"
    }
  },
  "nbformat": 4,
  "nbformat_minor": 0
}